{
 "cells": [
  {
   "cell_type": "markdown",
   "id": "22621370",
   "metadata": {},
   "source": [
    "# Normalization On Machine Learning\n",
    "\n",
    "On this notebook we will evidence the impact that normalization has in a Linear Regression Model performance"
   ]
  },
  {
   "cell_type": "markdown",
   "id": "5716d38d",
   "metadata": {},
   "source": [
    "### Import the libaries we will use"
   ]
  },
  {
   "cell_type": "code",
   "execution_count": 338,
   "id": "a53d455f",
   "metadata": {},
   "outputs": [],
   "source": [
    "from pandas import read_csv, DataFrame\n",
    "from sklearn.linear_model import LinearRegression\n",
    "from sklearn.model_selection import train_test_split\n",
    "from sklearn import metrics\n",
    "import matplotlib.pyplot as plt"
   ]
  },
  {
   "cell_type": "markdown",
   "id": "0b8fc752",
   "metadata": {},
   "source": [
    "### Import the dataset\n"
   ]
  },
  {
   "cell_type": "code",
   "execution_count": 339,
   "id": "d6a417fb",
   "metadata": {},
   "outputs": [],
   "source": [
    "data = read_csv('kc_house_data.csv')"
   ]
  },
  {
   "cell_type": "markdown",
   "id": "9c14b643",
   "metadata": {},
   "source": [
    "### We mount our feature vector, and the target variable vector:\n",
    "- X : ( Squared Feet, Bedrooms )\n",
    "- Y : ( Price )"
   ]
  },
  {
   "cell_type": "code",
   "execution_count": 340,
   "id": "27bf1410",
   "metadata": {},
   "outputs": [],
   "source": [
    "X = data[['sqft_living', 'bedrooms']]\n",
    "Y = data['price']"
   ]
  },
  {
   "cell_type": "markdown",
   "id": "a14f00b4",
   "metadata": {},
   "source": [
    "### We will split the data in train-test subsets"
   ]
  },
  {
   "cell_type": "code",
   "execution_count": 341,
   "id": "55ce0e66",
   "metadata": {},
   "outputs": [],
   "source": [
    "x_train, x_test, y_train, y_test = train_test_split(X, \n",
    "                                                    Y, \n",
    "                                                    test_size=0.2)"
   ]
  },
  {
   "cell_type": "markdown",
   "id": "286d5489",
   "metadata": {},
   "source": [
    "### Mount the model\n",
    "\n",
    "In this exercise we will use a common Linear Regression Model"
   ]
  },
  {
   "cell_type": "code",
   "execution_count": 342,
   "id": "e536c578",
   "metadata": {},
   "outputs": [],
   "source": [
    "model = LinearRegression()\n",
    "model = model.fit(x_train, y_train)"
   ]
  },
  {
   "cell_type": "markdown",
   "id": "eccfa541",
   "metadata": {},
   "source": [
    "### We evaluate the model accuracy"
   ]
  },
  {
   "cell_type": "code",
   "execution_count": 343,
   "id": "7ca7bbc5",
   "metadata": {},
   "outputs": [
    {
     "name": "stdout",
     "output_type": "stream",
     "text": [
      "Model Accuracy is: 48.51%\n"
     ]
    }
   ],
   "source": [
    "accuracy = round(model.score(x_test, y_test)*100, 2)\n",
    "print(f'Model Accuracy is: {accuracy}%')"
   ]
  },
  {
   "cell_type": "markdown",
   "id": "ef265a88",
   "metadata": {},
   "source": [
    "## Let's do the same now but with the NORMALIZED feature vector "
   ]
  },
  {
   "cell_type": "code",
   "execution_count": 344,
   "id": "2a50f0dc",
   "metadata": {},
   "outputs": [],
   "source": [
    "normalized_X = (X-X.min())/(X.max()-X.min())"
   ]
  },
  {
   "cell_type": "code",
   "execution_count": 345,
   "id": "22ed40b7",
   "metadata": {},
   "outputs": [],
   "source": [
    "norm_x_train, norm_x_test, y_train, y_test = train_test_split(normalized_X, \n",
    "                                                              Y, \n",
    "                                                              test_size=0.2)"
   ]
  },
  {
   "cell_type": "code",
   "execution_count": 346,
   "id": "2f965dd1",
   "metadata": {},
   "outputs": [
    {
     "data": {
      "text/plain": [
       "LinearRegression()"
      ]
     },
     "execution_count": 346,
     "metadata": {},
     "output_type": "execute_result"
    }
   ],
   "source": [
    "model = LinearRegression()\n",
    "model.fit(norm_x_train, y_train)"
   ]
  },
  {
   "cell_type": "code",
   "execution_count": 347,
   "id": "d69a43e3",
   "metadata": {},
   "outputs": [
    {
     "name": "stdout",
     "output_type": "stream",
     "text": [
      "Model Accuracy is: 50.96%\n"
     ]
    }
   ],
   "source": [
    "normalized_accuracy = round(model.score(norm_x_test, y_test)*100, 2)\n",
    "print(f'Model Accuracy is: {normalized_accuracy}%')"
   ]
  },
  {
   "cell_type": "markdown",
   "id": "d65f1cb2",
   "metadata": {},
   "source": [
    "### Visual Representation of Accuracy Improvement"
   ]
  },
  {
   "cell_type": "code",
   "execution_count": 348,
   "id": "fb1cd72a",
   "metadata": {},
   "outputs": [
    {
     "data": {
      "text/plain": [
       "<BarContainer object of 2 artists>"
      ]
     },
     "execution_count": 348,
     "metadata": {},
     "output_type": "execute_result"
    },
    {
     "data": {
      "image/png": "[encoded data removed]",
      "text/plain": [
       "<Figure size 432x288 with 1 Axes>"
      ]
     },
     "metadata": {
      "needs_background": "light"
     },
     "output_type": "display_data"
    }
   ],
   "source": [
    "accuracies_types = ['Not Normalized', 'Normalized']\n",
    "accuracies_values = [accuracy, normalized_accuracy]\n",
    "plt.bar(accuracies_types, accuracies_values)"
   ]
  }
 ],
 "metadata": {
  "kernelspec": {
   "display_name": "Python 3",
   "language": "python",
   "name": "python3"
  },
  "language_info": {
   "codemirror_mode": {
    "name": "ipython",
    "version": 3
   },
   "file_extension": ".py",
   "mimetype": "text/x-python",
   "name": "python",
   "nbconvert_exporter": "python",
   "pygments_lexer": "ipython3",
   "version": "3.8.8"
  }
 },
 "nbformat": 4,
 "nbformat_minor": 5
}
